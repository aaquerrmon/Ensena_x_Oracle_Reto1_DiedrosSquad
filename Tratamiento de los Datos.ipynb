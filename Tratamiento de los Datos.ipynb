{
 "cells": [
  {
   "cell_type": "code",
   "execution_count": 1,
   "metadata": {
    "id": "003PJerf4Ecm"
   },
   "outputs": [],
   "source": [
    "import os\n",
    "import numpy as np\n",
    "import pandas as pd\n",
    "import shutil\n",
    "import zipfile"
   ]
  },
  {
   "cell_type": "code",
   "execution_count": 2,
   "metadata": {
    "id": "lH0-58ku-3FR"
   },
   "outputs": [],
   "source": [
    "# Extract the archive\n",
    "# local_zip = '1r_reto_oracle+(2).zip'\n",
    "# zip_ref = zipfile.ZipFile(os.path.join(os.getcwd(),local_zip), 'r')\n",
    "# zip_ref.extractall(os.getcwd())\n",
    "# zip_ref.close()"
   ]
  },
  {
   "cell_type": "code",
   "execution_count": 3,
   "metadata": {
    "colab": {
     "base_uri": "https://localhost:8080/"
    },
    "executionInfo": {
     "elapsed": 92077,
     "status": "ok",
     "timestamp": 1677583189087,
     "user": {
      "displayName": "Ander20",
      "userId": "07880215011835040534"
     },
     "user_tz": -60
    },
    "id": "8vlX0k7sL4Qf",
    "outputId": "82ef38e2-a157-4275-eb3b-1d121fb81eee"
   },
   "outputs": [
    {
     "data": {
      "text/plain": [
       "15987"
      ]
     },
     "execution_count": 3,
     "metadata": {},
     "output_type": "execute_result"
    }
   ],
   "source": [
    "# Aumount of images\n",
    "len(os.listdir(os.path.join(os.getcwd(), \"all_imgs\")))"
   ]
  },
  {
   "cell_type": "code",
   "execution_count": 4,
   "metadata": {
    "id": "PRIZm5EP4ZJH"
   },
   "outputs": [
    {
     "data": {
      "text/html": [
       "<div>\n",
       "<style scoped>\n",
       "    .dataframe tbody tr th:only-of-type {\n",
       "        vertical-align: middle;\n",
       "    }\n",
       "\n",
       "    .dataframe tbody tr th {\n",
       "        vertical-align: top;\n",
       "    }\n",
       "\n",
       "    .dataframe thead th {\n",
       "        text-align: right;\n",
       "    }\n",
       "</style>\n",
       "<table border=\"1\" class=\"dataframe\">\n",
       "  <thead>\n",
       "    <tr style=\"text-align: right;\">\n",
       "      <th></th>\n",
       "      <th>idx_train</th>\n",
       "      <th>path_img</th>\n",
       "      <th>label</th>\n",
       "    </tr>\n",
       "  </thead>\n",
       "  <tbody>\n",
       "    <tr>\n",
       "      <th>0</th>\n",
       "      <td>0</td>\n",
       "      <td>all_imgs/bc7696f4-1460-4d0b-a63d-f84b3be4da0f....</td>\n",
       "      <td>0</td>\n",
       "    </tr>\n",
       "    <tr>\n",
       "      <th>1</th>\n",
       "      <td>1</td>\n",
       "      <td>all_imgs/f8d50663-60d8-4da5-a8b8-79f954aec503....</td>\n",
       "      <td>2</td>\n",
       "    </tr>\n",
       "    <tr>\n",
       "      <th>2</th>\n",
       "      <td>2</td>\n",
       "      <td>all_imgs/51df0f29-758b-4741-ab74-a0ff8e21c044....</td>\n",
       "      <td>4</td>\n",
       "    </tr>\n",
       "    <tr>\n",
       "      <th>3</th>\n",
       "      <td>3</td>\n",
       "      <td>all_imgs/f61b81d3-3b79-4162-b4d6-4f1b39518c4c....</td>\n",
       "      <td>0</td>\n",
       "    </tr>\n",
       "    <tr>\n",
       "      <th>4</th>\n",
       "      <td>4</td>\n",
       "      <td>all_imgs/b21e0668-bd09-4794-9e90-da8ecffc4c1c....</td>\n",
       "      <td>0</td>\n",
       "    </tr>\n",
       "    <tr>\n",
       "      <th>...</th>\n",
       "      <td>...</td>\n",
       "      <td>...</td>\n",
       "      <td>...</td>\n",
       "    </tr>\n",
       "    <tr>\n",
       "      <th>11184</th>\n",
       "      <td>11184</td>\n",
       "      <td>all_imgs/b834c3fa-4fb0-4e38-ae32-7fd4a4141fe6....</td>\n",
       "      <td>2</td>\n",
       "    </tr>\n",
       "    <tr>\n",
       "      <th>11185</th>\n",
       "      <td>11185</td>\n",
       "      <td>all_imgs/b93165ab-a87d-4ee1-8360-9b9728a3fc4b....</td>\n",
       "      <td>6</td>\n",
       "    </tr>\n",
       "    <tr>\n",
       "      <th>11186</th>\n",
       "      <td>11186</td>\n",
       "      <td>all_imgs/a130fcbb-2b90-4922-b1e2-4770fddf6b91....</td>\n",
       "      <td>5</td>\n",
       "    </tr>\n",
       "    <tr>\n",
       "      <th>11187</th>\n",
       "      <td>11187</td>\n",
       "      <td>all_imgs/bf402d68-ca0b-47f2-86f9-6e81d4bdbb38....</td>\n",
       "      <td>7</td>\n",
       "    </tr>\n",
       "    <tr>\n",
       "      <th>11188</th>\n",
       "      <td>11188</td>\n",
       "      <td>all_imgs/a609a4a1-bd42-4053-9de7-5e94a812425b....</td>\n",
       "      <td>0</td>\n",
       "    </tr>\n",
       "  </tbody>\n",
       "</table>\n",
       "<p>11189 rows × 3 columns</p>\n",
       "</div>"
      ],
      "text/plain": [
       "       idx_train                                           path_img  label\n",
       "0              0  all_imgs/bc7696f4-1460-4d0b-a63d-f84b3be4da0f....      0\n",
       "1              1  all_imgs/f8d50663-60d8-4da5-a8b8-79f954aec503....      2\n",
       "2              2  all_imgs/51df0f29-758b-4741-ab74-a0ff8e21c044....      4\n",
       "3              3  all_imgs/f61b81d3-3b79-4162-b4d6-4f1b39518c4c....      0\n",
       "4              4  all_imgs/b21e0668-bd09-4794-9e90-da8ecffc4c1c....      0\n",
       "...          ...                                                ...    ...\n",
       "11184      11184  all_imgs/b834c3fa-4fb0-4e38-ae32-7fd4a4141fe6....      2\n",
       "11185      11185  all_imgs/b93165ab-a87d-4ee1-8360-9b9728a3fc4b....      6\n",
       "11186      11186  all_imgs/a130fcbb-2b90-4922-b1e2-4770fddf6b91....      5\n",
       "11187      11187  all_imgs/bf402d68-ca0b-47f2-86f9-6e81d4bdbb38....      7\n",
       "11188      11188  all_imgs/a609a4a1-bd42-4053-9de7-5e94a812425b....      0\n",
       "\n",
       "[11189 rows x 3 columns]"
      ]
     },
     "execution_count": 4,
     "metadata": {},
     "output_type": "execute_result"
    }
   ],
   "source": [
    "train = pd.read_csv(\"train.csv\")\n",
    "test = pd.read_csv(\"test.csv\")\n",
    "train"
   ]
  },
  {
   "cell_type": "code",
   "execution_count": 5,
   "metadata": {
    "colab": {
     "base_uri": "https://localhost:8080/"
    },
    "executionInfo": {
     "elapsed": 269581,
     "status": "ok",
     "timestamp": 1677583459210,
     "user": {
      "displayName": "Ander20",
      "userId": "07880215011835040534"
     },
     "user_tz": -60
    },
    "id": "71FVh9Ju7Yik",
    "outputId": "ea7a25c9-ef23-45cc-e89e-e4e07b8ecc67"
   },
   "outputs": [
    {
     "name": "stdout",
     "output_type": "stream",
     "text": [
      "We are going to transform the images that are not RGB to RGB and to uploaded to our data\n",
      "The image 04825d0c-aded-443f-b03b-867daaadf373.jpeg is not an RGB, it is P\n",
      "The image 07952513-931e-4154-a9f9-03a204142750.jpeg is not an RGB, it is P\n",
      "The image 137dd1bf-f3af-4778-a852-a8a36500f717.jpeg is not an RGB, it is P\n",
      "The image 321838ad-dd6d-4c9d-91fc-f3a4f5c2496d.jpeg is not an RGB, it is RGBA\n",
      "The image 3b072101-ef73-4d3f-9656-915763b0bfdd.jpeg is not an RGB, it is RGBA\n",
      "The image 4986363c-7139-4274-afa2-cbff7b7df170.jpeg is not an RGB, it is RGBA\n",
      "The image 4fb90cb3-64c3-44a9-b239-2513cb79db72.jpeg is not an RGB, it is RGBA\n",
      "The image 560e4860-ab6d-482d-b6ba-8468936f8262.jpeg is not an RGB, it is P\n",
      "The image 5f0f83e9-b8a1-4c91-af7b-1404fda887f0.jpeg is not an RGB, it is P\n",
      "The image 62775b3e-49d5-40f2-b931-605b64378d1d.jpeg is not an RGB, it is RGBA\n",
      "The image 65fd1494-dfea-43f0-b8a1-734f9cc17203.jpeg is not an RGB, it is P\n",
      "The image 66737240-58dd-4ba7-86f7-02f88ad5d6d5.jpeg is not an RGB, it is P\n",
      "The image 69561436-d0be-4f6c-9301-bc7bb4844aa5.jpeg is not an RGB, it is P\n"
     ]
    },
    {
     "name": "stderr",
     "output_type": "stream",
     "text": [
      "C:\\Users\\iddep\\anaconda3\\lib\\site-packages\\PIL\\Image.py:975: UserWarning: Palette images with Transparency expressed in bytes should be converted to RGBA images\n",
      "  warnings.warn(\n"
     ]
    },
    {
     "name": "stdout",
     "output_type": "stream",
     "text": [
      "The image 6c574ac1-6340-4575-8e8d-5a34be0a6a38.jpeg is not an RGB, it is P\n",
      "The image 75163cea-0048-4715-bbe1-13eba067355d.jpeg is not an RGB, it is P\n",
      "The image 78f6ca3f-7975-432a-9797-1feda484f066.jpeg is not an RGB, it is P\n",
      "The image 8bd901e6-326a-4aa9-9bd2-0e3427660cd4.jpeg is not an RGB, it is P\n",
      "The image 925a008b-da6c-4d21-85a8-ca6f240506ed.jpeg is not an RGB, it is P\n",
      "The image 988611bc-8399-49be-92dd-af425a3944f7.jpeg is not an RGB, it is P\n",
      "The image 99ec9e46-6bff-463c-af86-6b38aecb9a39.jpeg is not an RGB, it is RGBA\n",
      "The image a98ffc08-25f8-4e7e-90e5-a71ba0000d58.jpeg is not an RGB, it is P\n",
      "The image af00c208-9942-4834-8f1b-3ac24ab0ebdf.jpeg is not an RGB, it is P\n",
      "The image b1199cbf-a1b8-4957-a6e0-322651bf73d2.jpeg is not an RGB, it is P\n",
      "The image bb2b2d12-4fb3-4ff5-a7d4-a13b6f457cbf.jpeg is not an RGB, it is P\n",
      "The image c2a04af0-82e0-4337-8c22-aa5857ace653.jpeg is not an RGB, it is P\n",
      "The image d94f12dc-5b8e-46dc-84b5-f73b5daa13f1.jpeg is not an RGB, it is RGBA\n",
      "The image dd125d22-6d3a-496d-9024-b1c21a005760.jpeg is not an RGB, it is P\n",
      "The image e6e3a088-a86c-468d-a36e-697824e4f1c1.jpeg is not an RGB, it is P\n",
      "The image f5f6d522-7f55-4ba8-957a-3260f08a5e73.jpeg is not an RGB, it is P\n",
      "The image fb10884f-448b-445f-adbf-005fc6c4a7f3.jpeg is not an RGB, it is RGBA\n",
      "The image fe91301d-9a54-4ef2-b212-7ce0eb3da741.jpeg is not an RGB, it is P\n"
     ]
    }
   ],
   "source": [
    "from PIL import Image\n",
    "\n",
    "# Cambiamos todos las imagenes que no sean RGB a RGB\n",
    "print(\"We are going to transform the images that are not RGB to RGB and to uploaded to our data\")\n",
    "for image in os.listdir(os.path.join(os.getcwd(), \"all_imgs\")):\n",
    "    path = os.path.join(os.getcwd(), \"all_imgs\", image)\n",
    "    im = Image.open(path)\n",
    "    if im.mode != \"RGB\":\n",
    "        print(f\"The image {image} is not an RGB, it is {im.mode}\")\n",
    "    im = im.convert(\"RGB\")\n",
    "    os.remove(path)\n",
    "    im.save(path)\n",
    "    im.close()"
   ]
  },
  {
   "cell_type": "code",
   "execution_count": 6,
   "metadata": {
    "id": "rIO6-Tsw6bFN"
   },
   "outputs": [],
   "source": [
    "# Creamos dos directorios para nuestras imagenes train y test\n",
    "# for label in range(train[\"label\"].max()+1):\n",
    "#     if not os.path.exists(os.path.join(os.getcwd(), \"train\", str(label))):\n",
    "#         os.mkdir(os.path.join(os.getcwd(), \"train\", str(label)))\n",
    "#     if not os.path.exists(os.path.join(os.getcwd(), \"test\", str(label))):\n",
    "#         os.mkdir(os.path.join(os.getcwd(), \"test\", str(label)))"
   ]
  },
  {
   "cell_type": "code",
   "execution_count": 7,
   "metadata": {
    "id": "jjJyR-VW400J"
   },
   "outputs": [],
   "source": [
    "# Movemos las imágenes a una carpetas para que sigan un formato mas manejable para tensorflow \n",
    "for i in range(train.shape[0]):\n",
    "    image = train.loc[i,\"path_img\"]\n",
    "    label = train.loc[i,\"label\"]\n",
    "    shutil.copy(os.path.join(os.getcwd(), image), os.path.join(os.getcwd(), \"train\", str(label)))\n",
    "# for i in tqdm(range(test.shape[0])):\n",
    "\n",
    "#   image = test.loc[i,\"path_img\"]\n",
    "#   label = test.loc[i,\"label\"]\n",
    "#   shutil.copy(os.path.join(os.getcwd(), image), os.path.join(os.getcwd(), \"test\", str(label)))"
   ]
  },
  {
   "cell_type": "code",
   "execution_count": 8,
   "metadata": {
    "colab": {
     "base_uri": "https://localhost:8080/"
    },
    "executionInfo": {
     "elapsed": 12,
     "status": "ok",
     "timestamp": 1677583189636,
     "user": {
      "displayName": "Ander20",
      "userId": "07880215011835040534"
     },
     "user_tz": -60
    },
    "id": "7cmZofeu5PLJ",
    "outputId": "d4765e7e-c4ff-4de4-f3dc-f57645ce56fc"
   },
   "outputs": [
    {
     "data": {
      "text/plain": [
       "1    1431\n",
       "6    1407\n",
       "7    1404\n",
       "5    1402\n",
       "0    1396\n",
       "3    1395\n",
       "4    1378\n",
       "2    1376\n",
       "Name: label, dtype: int64"
      ]
     },
     "execution_count": 8,
     "metadata": {},
     "output_type": "execute_result"
    }
   ],
   "source": [
    "train[\"label\"].value_counts()"
   ]
  },
  {
   "cell_type": "code",
   "execution_count": null,
   "metadata": {
    "id": "e8-RcFU_9SDj"
   },
   "outputs": [],
   "source": []
  }
 ],
 "metadata": {
  "colab": {
   "provenance": []
  },
  "kernelspec": {
   "display_name": "Python 3 (ipykernel)",
   "language": "python",
   "name": "python3"
  },
  "language_info": {
   "codemirror_mode": {
    "name": "ipython",
    "version": 3
   },
   "file_extension": ".py",
   "mimetype": "text/x-python",
   "name": "python",
   "nbconvert_exporter": "python",
   "pygments_lexer": "ipython3",
   "version": "3.9.7"
  }
 },
 "nbformat": 4,
 "nbformat_minor": 1
}
